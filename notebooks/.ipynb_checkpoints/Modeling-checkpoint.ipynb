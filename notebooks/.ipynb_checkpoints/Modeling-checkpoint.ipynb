{
 "cells": [
  {
   "cell_type": "code",
   "execution_count": 1,
   "id": "4edfe34a",
   "metadata": {},
   "outputs": [],
   "source": [
    "import os\n",
    "import numpy as np\n",
    "import pandas as pd\n",
    "import matplotlib.pyplot as plt\n",
    "import seaborn as sns"
   ]
  },
  {
   "cell_type": "code",
   "execution_count": 5,
   "id": "7cc9994f",
   "metadata": {},
   "outputs": [
    {
     "data": {
      "text/html": [
       "<div>\n",
       "<style scoped>\n",
       "    .dataframe tbody tr th:only-of-type {\n",
       "        vertical-align: middle;\n",
       "    }\n",
       "\n",
       "    .dataframe tbody tr th {\n",
       "        vertical-align: top;\n",
       "    }\n",
       "\n",
       "    .dataframe thead th {\n",
       "        text-align: right;\n",
       "    }\n",
       "</style>\n",
       "<table border=\"1\" class=\"dataframe\">\n",
       "  <thead>\n",
       "    <tr style=\"text-align: right;\">\n",
       "      <th></th>\n",
       "      <th>Diet_type</th>\n",
       "      <th>Recipe_name</th>\n",
       "      <th>Cuisine_type</th>\n",
       "      <th>protein</th>\n",
       "      <th>carbs</th>\n",
       "      <th>fat</th>\n",
       "      <th>calories</th>\n",
       "      <th>fat_con</th>\n",
       "      <th>protein_con</th>\n",
       "      <th>carbs_con</th>\n",
       "    </tr>\n",
       "  </thead>\n",
       "  <tbody>\n",
       "    <tr>\n",
       "      <th>0</th>\n",
       "      <td>paleo</td>\n",
       "      <td>Bone Broth From 'Nom Nom Paleo'</td>\n",
       "      <td>american</td>\n",
       "      <td>5.22</td>\n",
       "      <td>1.29</td>\n",
       "      <td>3.20</td>\n",
       "      <td>54.84</td>\n",
       "      <td>Low</td>\n",
       "      <td>Low</td>\n",
       "      <td>Low</td>\n",
       "    </tr>\n",
       "    <tr>\n",
       "      <th>1</th>\n",
       "      <td>paleo</td>\n",
       "      <td>Strawberry Guacamole recipes</td>\n",
       "      <td>mexican</td>\n",
       "      <td>9.62</td>\n",
       "      <td>75.78</td>\n",
       "      <td>59.89</td>\n",
       "      <td>880.61</td>\n",
       "      <td>Moderate</td>\n",
       "      <td>Low</td>\n",
       "      <td>Moderate</td>\n",
       "    </tr>\n",
       "    <tr>\n",
       "      <th>2</th>\n",
       "      <td>paleo</td>\n",
       "      <td>Asian Cauliflower Fried \"Rice\" From 'Nom Nom P...</td>\n",
       "      <td>chinese</td>\n",
       "      <td>39.84</td>\n",
       "      <td>54.08</td>\n",
       "      <td>71.55</td>\n",
       "      <td>1019.63</td>\n",
       "      <td>High</td>\n",
       "      <td>Moderate</td>\n",
       "      <td>Moderate</td>\n",
       "    </tr>\n",
       "    <tr>\n",
       "      <th>3</th>\n",
       "      <td>paleo</td>\n",
       "      <td>Paleo Shrimp-Stuffed Mushrooms recipes</td>\n",
       "      <td>mediterranean</td>\n",
       "      <td>68.62</td>\n",
       "      <td>34.15</td>\n",
       "      <td>42.44</td>\n",
       "      <td>793.04</td>\n",
       "      <td>Moderate</td>\n",
       "      <td>High</td>\n",
       "      <td>Moderate</td>\n",
       "    </tr>\n",
       "    <tr>\n",
       "      <th>4</th>\n",
       "      <td>paleo</td>\n",
       "      <td>Autoimmune Paleo Pesto</td>\n",
       "      <td>italian</td>\n",
       "      <td>4.25</td>\n",
       "      <td>14.15</td>\n",
       "      <td>72.90</td>\n",
       "      <td>729.70</td>\n",
       "      <td>High</td>\n",
       "      <td>Low</td>\n",
       "      <td>Low</td>\n",
       "    </tr>\n",
       "  </tbody>\n",
       "</table>\n",
       "</div>"
      ],
      "text/plain": [
       "  Diet_type                                        Recipe_name   Cuisine_type  \\\n",
       "0     paleo                    Bone Broth From 'Nom Nom Paleo'       american   \n",
       "1     paleo                       Strawberry Guacamole recipes        mexican   \n",
       "2     paleo  Asian Cauliflower Fried \"Rice\" From 'Nom Nom P...        chinese   \n",
       "3     paleo             Paleo Shrimp-Stuffed Mushrooms recipes  mediterranean   \n",
       "4     paleo                             Autoimmune Paleo Pesto        italian   \n",
       "\n",
       "   protein  carbs    fat  calories   fat_con protein_con carbs_con  \n",
       "0     5.22   1.29   3.20     54.84       Low         Low       Low  \n",
       "1     9.62  75.78  59.89    880.61  Moderate         Low  Moderate  \n",
       "2    39.84  54.08  71.55   1019.63      High    Moderate  Moderate  \n",
       "3    68.62  34.15  42.44    793.04  Moderate        High  Moderate  \n",
       "4     4.25  14.15  72.90    729.70      High         Low       Low  "
      ]
     },
     "execution_count": 5,
     "metadata": {},
     "output_type": "execute_result"
    }
   ],
   "source": [
    "df = pd.read_csv('../data/foodcleaned.csv')\n",
    "df.head()"
   ]
  },
  {
   "cell_type": "code",
   "execution_count": null,
   "id": "de75f1a0",
   "metadata": {},
   "outputs": [],
   "source": [
    "'''\n",
    "n = the number of training examples for which v = vj\n",
    "nc = number of examples for which v = vj and a = ai\n",
    "p = a priori estimate for P(ai|vj )\n",
    "m = the equivalent sample size\n",
    "'''"
   ]
  },
  {
   "cell_type": "code",
   "execution_count": 2,
   "id": "63432fa1",
   "metadata": {},
   "outputs": [],
   "source": [
    "def naives_bayes(nc, n, p , m=6):\n",
    "    pav = (nc+m*p)/(n+m)\n",
    "    return pav"
   ]
  },
  {
   "cell_type": "code",
   "execution_count": 3,
   "id": "ac901965",
   "metadata": {},
   "outputs": [],
   "source": [
    "#define N for naives_bayes\n",
    "def nb_n(df, column, category):\n",
    "    return df[df[column] == category].count()"
   ]
  },
  {
   "cell_type": "code",
   "execution_count": 4,
   "id": "f98a31bb",
   "metadata": {},
   "outputs": [],
   "source": [
    "#define P for naives_bayes\n",
    "def nb_p(df, column, category):\n",
    "    return nb_n(df,column,category)/df[column].count()"
   ]
  },
  {
   "cell_type": "code",
   "execution_count": 67,
   "id": "f8343b00",
   "metadata": {},
   "outputs": [],
   "source": [
    "#definte NC for naives_bayes\n",
    "def nb_nc(df, qual: dict):\n",
    "    df2 = pd.DataFrame()\n",
    "    i = 0\n",
    "    for key,value in qual.items():\n",
    "        x = df[df[key]==value]\n",
    "        if i == 0: df2 = x\n",
    "        else: df2 = pd.concat([df2,x]).drop_duplicates()\n",
    "        i+=1\n",
    "    return df2['Recipe_name'].count()"
   ]
  },
  {
   "cell_type": "code",
   "execution_count": 68,
   "id": "8a85f6fa",
   "metadata": {},
   "outputs": [
    {
     "data": {
      "text/plain": [
       "2699"
      ]
     },
     "execution_count": 68,
     "metadata": {},
     "output_type": "execute_result"
    }
   ],
   "source": [
    "d = {'fat_con':'Low', 'protein_con':'High'}\n",
    "test = nb_nc(df, d)\n",
    "test"
   ]
  },
  {
   "cell_type": "code",
   "execution_count": null,
   "id": "50733c66",
   "metadata": {},
   "outputs": [],
   "source": [
    "'''\n",
    "low / medium / high\n",
    "carbs / fat / protein\n",
    "'''\n",
    "\n",
    "P(lowcarb lowfat lowprotein)\n",
    "P(low carb low fat high protein)\n",
    "P(low carb low fat med protein)\n"
   ]
  }
 ],
 "metadata": {
  "kernelspec": {
   "display_name": "Python 3 (ipykernel)",
   "language": "python",
   "name": "python3"
  },
  "language_info": {
   "codemirror_mode": {
    "name": "ipython",
    "version": 3
   },
   "file_extension": ".py",
   "mimetype": "text/x-python",
   "name": "python",
   "nbconvert_exporter": "python",
   "pygments_lexer": "ipython3",
   "version": "3.10.9"
  }
 },
 "nbformat": 4,
 "nbformat_minor": 5
}
